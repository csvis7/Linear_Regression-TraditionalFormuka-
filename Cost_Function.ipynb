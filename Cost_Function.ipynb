{
  "nbformat": 4,
  "nbformat_minor": 0,
  "metadata": {
    "colab": {
      "provenance": [],
      "authorship_tag": "ABX9TyNN+RT6Ww3a/NiI0N1EgEB5",
      "include_colab_link": true
    },
    "kernelspec": {
      "name": "python3",
      "display_name": "Python 3"
    },
    "language_info": {
      "name": "python"
    }
  },
  "cells": [
    {
      "cell_type": "markdown",
      "metadata": {
        "id": "view-in-github",
        "colab_type": "text"
      },
      "source": [
        "<a href=\"https://colab.research.google.com/github/csvis7/Linear_Regression-TraditionalFormuka-/blob/main/Cost_Function.ipynb\" target=\"_parent\"><img src=\"https://colab.research.google.com/assets/colab-badge.svg\" alt=\"Open In Colab\"/></a>"
      ]
    },
    {
      "cell_type": "markdown",
      "source": [],
      "metadata": {
        "id": "V8oCxblSf1MB"
      }
    },
    {
      "cell_type": "markdown",
      "source": [
        "cost function\n"
      ],
      "metadata": {
        "id": "9l8zCudMf2nb"
      }
    },
    {
      "cell_type": "code",
      "execution_count": null,
      "metadata": {
        "id": "2xpHDc1Efl4p"
      },
      "outputs": [],
      "source": [
        "import numpy as np\n",
        "import matplotlib.pyplot as plt\n"
      ]
    },
    {
      "cell_type": "code",
      "source": [
        "x_train=np.array([1.0,2.0])\n",
        "y_train=np.array([300.0,500.0])"
      ],
      "metadata": {
        "id": "tRUlmBn1gb6L"
      },
      "execution_count": null,
      "outputs": []
    },
    {
      "cell_type": "markdown",
      "source": [
        "equation for cost function\n",
        "𝐽(𝑤,𝑏)=1/2𝑚∑𝑖=0 to 𝑚−1(𝑓𝑤,𝑏(𝑥(𝑖))−𝑦(𝑖))**2\n"
      ],
      "metadata": {
        "id": "9oW8LzC-hTyE"
      }
    },
    {
      "cell_type": "code",
      "source": [
        "def compute_cost(x,y,w,b):\n",
        "  m=x.shape[0]\n",
        "  cost_sum=0\n",
        "  for i in range (m):\n",
        "    f_wb = w*x[i]+b\n",
        "    cost = (f_wb-y[i])**2\n",
        "    cost_sum=cost_sum+cost\n",
        "  total_cost=(1/(2*m))*cost_sum\n",
        "  return total_cost"
      ],
      "metadata": {
        "id": "_m2g8hGkhPPa"
      },
      "execution_count": null,
      "outputs": []
    },
    {
      "cell_type": "code",
      "source": [
        "plt.scatter(x_train,y_train,color=\"red\",marker=\"x\")\n",
        "plt.xlabel(\"x values\")\n",
        "plt.ylabel(\"y values\")\n",
        "plt.show()"
      ],
      "metadata": {
        "colab": {
          "base_uri": "https://localhost:8080/",
          "height": 449
        },
        "id": "8mB8BGHPihUG",
        "outputId": "6db3f0d5-3568-4083-e4d6-d9fc500c37bc"
      },
      "execution_count": null,
      "outputs": [
        {
          "output_type": "display_data",
          "data": {
            "text/plain": [
              "<Figure size 640x480 with 1 Axes>"
            ],
            "image/png": "[encoded data removed]"
          },
          "metadata": {}
        }
      ]
    },
    {
      "cell_type": "code",
      "source": [
        "w=260\n",
        "b_values = [11, -10, 0, 10, 20]\n",
        "for k in b_values:\n",
        "\n",
        "      cost_values=compute_cost(x_train,y_train,w,k)\n",
        "      print(f\"cost function {cost_values}\")"
      ],
      "metadata": {
        "colab": {
          "base_uri": "https://localhost:8080/"
        },
        "id": "XUL0uebTilgr",
        "outputId": "b1d5a1bf-9eff-4c80-a549-db8d5f28a817"
      },
      "execution_count": null,
      "outputs": [
        {
          "output_type": "stream",
          "name": "stdout",
          "text": [
            "cost function 450.5\n",
            "cost function 650.0\n",
            "cost function 500.0\n",
            "cost function 450.0\n",
            "cost function 500.0\n"
          ]
        }
      ]
    },
    {
      "cell_type": "code",
      "source": [],
      "metadata": {
        "id": "JttRu5W3loxu"
      },
      "execution_count": null,
      "outputs": []
    }
  ]
}